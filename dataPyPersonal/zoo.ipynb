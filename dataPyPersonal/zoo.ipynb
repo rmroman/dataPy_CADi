{
 "cells": [
  {
   "cell_type": "code",
   "execution_count": 1,
   "metadata": {},
   "outputs": [],
   "source": [
    "# Load libraries\n",
    "import seaborn as sns\n",
    "import matplotlib.pyplot as plt\n",
    "import pandas as pd\n",
    "import numpy as np\n",
    "%matplotlib inline"
   ]
  },
  {
   "cell_type": "code",
   "execution_count": 5,
   "metadata": {},
   "outputs": [
    {
     "data": {
      "text/html": [
       "<div>\n",
       "<style scoped>\n",
       "    .dataframe tbody tr th:only-of-type {\n",
       "        vertical-align: middle;\n",
       "    }\n",
       "\n",
       "    .dataframe tbody tr th {\n",
       "        vertical-align: top;\n",
       "    }\n",
       "\n",
       "    .dataframe thead th {\n",
       "        text-align: right;\n",
       "    }\n",
       "</style>\n",
       "<table border=\"1\" class=\"dataframe\">\n",
       "  <thead>\n",
       "    <tr style=\"text-align: right;\">\n",
       "      <th></th>\n",
       "      <th>animal</th>\n",
       "      <th>uniq_id</th>\n",
       "      <th>water_need</th>\n",
       "    </tr>\n",
       "  </thead>\n",
       "  <tbody>\n",
       "    <tr>\n",
       "      <th>17</th>\n",
       "      <td>lion</td>\n",
       "      <td>1018</td>\n",
       "      <td>500</td>\n",
       "    </tr>\n",
       "    <tr>\n",
       "      <th>18</th>\n",
       "      <td>lion</td>\n",
       "      <td>1019</td>\n",
       "      <td>390</td>\n",
       "    </tr>\n",
       "    <tr>\n",
       "      <th>19</th>\n",
       "      <td>kangaroo</td>\n",
       "      <td>1020</td>\n",
       "      <td>410</td>\n",
       "    </tr>\n",
       "    <tr>\n",
       "      <th>20</th>\n",
       "      <td>kangaroo</td>\n",
       "      <td>1021</td>\n",
       "      <td>430</td>\n",
       "    </tr>\n",
       "    <tr>\n",
       "      <th>21</th>\n",
       "      <td>kangaroo</td>\n",
       "      <td>1022</td>\n",
       "      <td>410</td>\n",
       "    </tr>\n",
       "  </tbody>\n",
       "</table>\n",
       "</div>"
      ],
      "text/plain": [
       "      animal  uniq_id  water_need\n",
       "17      lion     1018         500\n",
       "18      lion     1019         390\n",
       "19  kangaroo     1020         410\n",
       "20  kangaroo     1021         430\n",
       "21  kangaroo     1022         410"
      ]
     },
     "execution_count": 5,
     "metadata": {},
     "output_type": "execute_result"
    }
   ],
   "source": [
    "\n",
    "# Read dataset\n",
    "zoo = pd.read_csv(\"./data/extracted/Zoo/zoo.csv\")\n",
    "zoo.tail()\n"
   ]
  },
  {
   "cell_type": "code",
   "execution_count": 17,
   "metadata": {},
   "outputs": [
    {
     "data": {
      "text/plain": [
       "pandas.core.frame.DataFrame"
      ]
     },
     "execution_count": 17,
     "metadata": {},
     "output_type": "execute_result"
    }
   ],
   "source": [
    "# Filter and count\n",
    "zoo[[\"animal\"]].count()\n",
    "zoo.animal.count()\n",
    "animalsList = list(zoo.animal)\n",
    "animalsTypes = set(animalsList)\n",
    "type(zoo[[\"animal\"]])"
   ]
  },
  {
   "cell_type": "code",
   "execution_count": 21,
   "metadata": {},
   "outputs": [
    {
     "data": {
      "text/plain": [
       "'\\nsum=7650, \\nmin=80, \\nmax=600,\\nmean=347.72727272727275,\\nmedian=325.0'"
      ]
     },
     "execution_count": 21,
     "metadata": {},
     "output_type": "execute_result"
    }
   ],
   "source": [
    "# More filtering and stats\n",
    "waterNeeded = zoo.water_need\n",
    "f'''\n",
    "sum={waterNeeded.sum()}, \n",
    "min={waterNeeded.min()}, \n",
    "max={waterNeeded.max()},\n",
    "mean={waterNeeded.mean()},\n",
    "median={waterNeeded.median()}'''\n"
   ]
  },
  {
   "cell_type": "code",
   "execution_count": 22,
   "metadata": {},
   "outputs": [
    {
     "data": {
      "text/plain": [
       "(array([1., 1., 0., 0., 0., 0., 0., 0., 1., 2., 1., 1., 0., 0., 1., 2., 1.,\n",
       "        1., 0., 0., 0., 1., 2., 1., 1., 0., 0., 0., 0., 2., 0., 0., 1., 0.,\n",
       "        0., 2.]),\n",
       " array([ 80.        ,  94.44444444, 108.88888889, 123.33333333,\n",
       "        137.77777778, 152.22222222, 166.66666667, 181.11111111,\n",
       "        195.55555556, 210.        , 224.44444444, 238.88888889,\n",
       "        253.33333333, 267.77777778, 282.22222222, 296.66666667,\n",
       "        311.11111111, 325.55555556, 340.        , 354.44444444,\n",
       "        368.88888889, 383.33333333, 397.77777778, 412.22222222,\n",
       "        426.66666667, 441.11111111, 455.55555556, 470.        ,\n",
       "        484.44444444, 498.88888889, 513.33333333, 527.77777778,\n",
       "        542.22222222, 556.66666667, 571.11111111, 585.55555556,\n",
       "        600.        ]),\n",
       " <a list of 36 Patch objects>)"
      ]
     },
     "execution_count": 22,
     "metadata": {},
     "output_type": "execute_result"
    },
    {
     "data": {
      "image/png": "[encoded data removed]",
      "text/plain": [
       "<Figure size 432x288 with 1 Axes>"
      ]
     },
     "metadata": {
      "needs_background": "light"
     },
     "output_type": "display_data"
    }
   ],
   "source": [
    "plt.hist(waterNeeded, color='blue', edgecolor='black', bins=int(180/5))\n"
   ]
  },
  {
   "cell_type": "code",
   "execution_count": 30,
   "metadata": {},
   "outputs": [
    {
     "data": {
      "text/plain": [
       "<matplotlib.axes._subplots.AxesSubplot at 0x1a1e1526d8>"
      ]
     },
     "execution_count": 30,
     "metadata": {},
     "output_type": "execute_result"
    },
    {
     "data": {
      "image/png": "[encoded data removed]",
      "text/plain": [
       "<Figure size 432x288 with 1 Axes>"
      ]
     },
     "metadata": {
      "needs_background": "light"
     },
     "output_type": "display_data"
    }
   ],
   "source": [
    "# Mixed filtering and plotting\n",
    "waterGroupedMean = zoo.groupby(\"animal\").mean()[[\"water_need\"]]\n",
    "zoo.groupby(\"animal\").mean().water_need\n",
    "\n",
    "waterGroupedSum = zoo.groupby(\"animal\").mean().water_need\n",
    "waterGroupedSum.plot.bar()\n"
   ]
  },
  {
   "cell_type": "code",
   "execution_count": 27,
   "metadata": {},
   "outputs": [
    {
     "data": {
      "image/png": "[encoded data removed]",
      "text/plain": [
       "<Figure size 432x288 with 1 Axes>"
      ]
     },
     "metadata": {
      "needs_background": "light"
     },
     "output_type": "display_data"
    }
   ],
   "source": [
    "sns.barplot(\n",
    "    x=\"animal\", y=\"water_need\", data=zoo,\n",
    "    capsize=.2, linewidth=2.5, facecolor=(1, 1, 1, 0),\n",
    "    errcolor=\".2\", edgecolor=\".2\", ci=50\n",
    ")\n",
    "plt.savefig('./images/zoo.png', dpi=500)"
   ]
  },
  {
   "cell_type": "code",
   "execution_count": null,
   "metadata": {},
   "outputs": [],
   "source": []
  }
 ],
 "metadata": {
  "kernelspec": {
   "display_name": "Python 3",
   "language": "python",
   "name": "python3"
  },
  "language_info": {
   "codemirror_mode": {
    "name": "ipython",
    "version": 3
   },
   "file_extension": ".py",
   "mimetype": "text/x-python",
   "name": "python",
   "nbconvert_exporter": "python",
   "pygments_lexer": "ipython3",
   "version": "3.7.3"
  }
 },
 "nbformat": 4,
 "nbformat_minor": 2
}
