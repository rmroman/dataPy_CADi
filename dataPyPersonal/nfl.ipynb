{
 "cells": [
  {
   "cell_type": "code",
   "execution_count": 2,
   "metadata": {},
   "outputs": [],
   "source": [
    "import seaborn as sns\n",
    "from matplotlib import cm\n",
    "import numpy as np\n",
    "import pandas as pd\n",
    "import matplotlib.colors as colors\n",
    "import matplotlib.pyplot as plt\n",
    "%matplotlib inline\n",
    "\n"
   ]
  },
  {
   "cell_type": "code",
   "execution_count": 15,
   "metadata": {},
   "outputs": [
    {
     "data": {
      "text/plain": [
       "17172"
      ]
     },
     "execution_count": 15,
     "metadata": {},
     "output_type": "execute_result"
    }
   ],
   "source": [
    "# Load the dataset\n",
    "data = pd.read_csv(\"./data/extracted/NFL/NFL.csv\")\n",
    "\n",
    "data.head()\n",
    "list(data.columns)\n",
    "len(data)\n",
    "#data.head(5)\n",
    "\n",
    "#help(pd.read_csv)\n",
    "#help(pd.read_excel)"
   ]
  },
  {
   "cell_type": "code",
   "execution_count": 16,
   "metadata": {
    "scrolled": true
   },
   "outputs": [
    {
     "data": {
      "text/html": [
       "<div>\n",
       "<style scoped>\n",
       "    .dataframe tbody tr th:only-of-type {\n",
       "        vertical-align: middle;\n",
       "    }\n",
       "\n",
       "    .dataframe tbody tr th {\n",
       "        vertical-align: top;\n",
       "    }\n",
       "\n",
       "    .dataframe thead th {\n",
       "        text-align: right;\n",
       "    }\n",
       "</style>\n",
       "<table border=\"1\" class=\"dataframe\">\n",
       "  <thead>\n",
       "    <tr style=\"text-align: right;\">\n",
       "      <th></th>\n",
       "      <th>Age</th>\n",
       "      <th>Birth Place</th>\n",
       "      <th>Birthday</th>\n",
       "      <th>College</th>\n",
       "      <th>Current Status</th>\n",
       "      <th>Current Team</th>\n",
       "      <th>Experience</th>\n",
       "      <th>Height (inches)</th>\n",
       "      <th>High School</th>\n",
       "      <th>High School Location</th>\n",
       "      <th>Name</th>\n",
       "      <th>Number</th>\n",
       "      <th>Player Id</th>\n",
       "      <th>Position</th>\n",
       "      <th>Weight (lbs)</th>\n",
       "      <th>Years Played</th>\n",
       "    </tr>\n",
       "  </thead>\n",
       "  <tbody>\n",
       "    <tr>\n",
       "      <th>2</th>\n",
       "      <td>56.0</td>\n",
       "      <td>Temple , TX</td>\n",
       "      <td>9/11/1960</td>\n",
       "      <td>Louisiana Tech</td>\n",
       "      <td>Retired</td>\n",
       "      <td>NaN</td>\n",
       "      <td>1 Season</td>\n",
       "      <td>74.0</td>\n",
       "      <td>NaN</td>\n",
       "      <td>NaN</td>\n",
       "      <td>Fowler, Bobby</td>\n",
       "      <td>NaN</td>\n",
       "      <td>bobbyfowler/2514295</td>\n",
       "      <td>NaN</td>\n",
       "      <td>230.0</td>\n",
       "      <td>1985 - 1985</td>\n",
       "    </tr>\n",
       "    <tr>\n",
       "      <th>3</th>\n",
       "      <td>30.0</td>\n",
       "      <td>New Orleans , LA</td>\n",
       "      <td>9/30/1986</td>\n",
       "      <td>LSU</td>\n",
       "      <td>Retired</td>\n",
       "      <td>NaN</td>\n",
       "      <td>5 Seasons</td>\n",
       "      <td>73.0</td>\n",
       "      <td>NaN</td>\n",
       "      <td>NaN</td>\n",
       "      <td>Johnson, Quinn</td>\n",
       "      <td>NaN</td>\n",
       "      <td>quinnjohnson/79593</td>\n",
       "      <td>NaN</td>\n",
       "      <td>255.0</td>\n",
       "      <td>2009 - 2013</td>\n",
       "    </tr>\n",
       "    <tr>\n",
       "      <th>12</th>\n",
       "      <td>33.0</td>\n",
       "      <td>NaN</td>\n",
       "      <td>12/4/1983</td>\n",
       "      <td>Boise State</td>\n",
       "      <td>Retired</td>\n",
       "      <td>NaN</td>\n",
       "      <td>1 Season</td>\n",
       "      <td>74.0</td>\n",
       "      <td>NaN</td>\n",
       "      <td>NaN</td>\n",
       "      <td>Zabransky, Jared</td>\n",
       "      <td>NaN</td>\n",
       "      <td>jaredzabransky/2495791</td>\n",
       "      <td>NaN</td>\n",
       "      <td>219.0</td>\n",
       "      <td>2007 - 2007</td>\n",
       "    </tr>\n",
       "    <tr>\n",
       "      <th>13</th>\n",
       "      <td>27.0</td>\n",
       "      <td>Little Rock , AR</td>\n",
       "      <td>11/22/1989</td>\n",
       "      <td>Arkansas</td>\n",
       "      <td>Retired</td>\n",
       "      <td>NaN</td>\n",
       "      <td>3 Seasons</td>\n",
       "      <td>71.0</td>\n",
       "      <td>NaN</td>\n",
       "      <td>NaN</td>\n",
       "      <td>Adams, Joe</td>\n",
       "      <td>NaN</td>\n",
       "      <td>joeadams/2532782</td>\n",
       "      <td>NaN</td>\n",
       "      <td>185.0</td>\n",
       "      <td>2012 - 2014</td>\n",
       "    </tr>\n",
       "    <tr>\n",
       "      <th>14</th>\n",
       "      <td>73.0</td>\n",
       "      <td>St. Louis , MO</td>\n",
       "      <td>12/8/1943</td>\n",
       "      <td>Missouri</td>\n",
       "      <td>Retired</td>\n",
       "      <td>NaN</td>\n",
       "      <td>8 Seasons</td>\n",
       "      <td>73.0</td>\n",
       "      <td>NaN</td>\n",
       "      <td>NaN</td>\n",
       "      <td>Otto, Gus</td>\n",
       "      <td>NaN</td>\n",
       "      <td>gusotto/2522592</td>\n",
       "      <td>NaN</td>\n",
       "      <td>220.0</td>\n",
       "      <td>1965 - 1972</td>\n",
       "    </tr>\n",
       "  </tbody>\n",
       "</table>\n",
       "</div>"
      ],
      "text/plain": [
       "     Age       Birth Place    Birthday         College Current Status  \\\n",
       "2   56.0       Temple , TX   9/11/1960  Louisiana Tech        Retired   \n",
       "3   30.0  New Orleans , LA   9/30/1986             LSU        Retired   \n",
       "12  33.0               NaN   12/4/1983     Boise State        Retired   \n",
       "13  27.0  Little Rock , AR  11/22/1989        Arkansas        Retired   \n",
       "14  73.0    St. Louis , MO   12/8/1943        Missouri        Retired   \n",
       "\n",
       "   Current Team Experience  Height (inches) High School High School Location  \\\n",
       "2           NaN   1 Season             74.0         NaN                  NaN   \n",
       "3           NaN  5 Seasons             73.0         NaN                  NaN   \n",
       "12          NaN   1 Season             74.0         NaN                  NaN   \n",
       "13          NaN  3 Seasons             71.0         NaN                  NaN   \n",
       "14          NaN  8 Seasons             73.0         NaN                  NaN   \n",
       "\n",
       "                Name  Number               Player Id Position  Weight (lbs)  \\\n",
       "2      Fowler, Bobby     NaN     bobbyfowler/2514295      NaN         230.0   \n",
       "3     Johnson, Quinn     NaN      quinnjohnson/79593      NaN         255.0   \n",
       "12  Zabransky, Jared     NaN  jaredzabransky/2495791      NaN         219.0   \n",
       "13        Adams, Joe     NaN        joeadams/2532782      NaN         185.0   \n",
       "14         Otto, Gus     NaN         gusotto/2522592      NaN         220.0   \n",
       "\n",
       "   Years Played  \n",
       "2   1985 - 1985  \n",
       "3   2009 - 2013  \n",
       "12  2007 - 2007  \n",
       "13  2012 - 2014  \n",
       "14  1965 - 1972  "
      ]
     },
     "execution_count": 16,
     "metadata": {},
     "output_type": "execute_result"
    }
   ],
   "source": [
    "# Filtering and Selecting\n",
    "ageFilterValue = 25\n",
    "ageFilter = data[\"Age\"] > ageFilterValue\n",
    "heightFilter = data[\"Height (inches)\"] > 70\n",
    "aboveAge = data[ageFilter & heightFilter]\n",
    "len(aboveAge)\n",
    "aboveAge.head()"
   ]
  },
  {
   "cell_type": "code",
   "execution_count": 17,
   "metadata": {},
   "outputs": [
    {
     "data": {
      "text/plain": [
       "array(['Retired', 'Active', 'Unsigned free agent', 'Suspended',\n",
       "       'Injured reserve', 'Physically unable to perform'], dtype=object)"
      ]
     },
     "execution_count": 17,
     "metadata": {},
     "output_type": "execute_result"
    }
   ],
   "source": [
    "data[\"Current Status\"].unique()\n"
   ]
  },
  {
   "cell_type": "code",
   "execution_count": 18,
   "metadata": {},
   "outputs": [
    {
     "data": {
      "text/html": [
       "<div>\n",
       "<style scoped>\n",
       "    .dataframe tbody tr th:only-of-type {\n",
       "        vertical-align: middle;\n",
       "    }\n",
       "\n",
       "    .dataframe tbody tr th {\n",
       "        vertical-align: top;\n",
       "    }\n",
       "\n",
       "    .dataframe thead th {\n",
       "        text-align: right;\n",
       "    }\n",
       "</style>\n",
       "<table border=\"1\" class=\"dataframe\">\n",
       "  <thead>\n",
       "    <tr style=\"text-align: right;\">\n",
       "      <th></th>\n",
       "      <th>Age</th>\n",
       "      <th>Birth Place</th>\n",
       "      <th>Birthday</th>\n",
       "      <th>College</th>\n",
       "      <th>Current Status</th>\n",
       "      <th>Current Team</th>\n",
       "      <th>Experience</th>\n",
       "      <th>Height (inches)</th>\n",
       "      <th>High School</th>\n",
       "      <th>High School Location</th>\n",
       "      <th>Name</th>\n",
       "      <th>Number</th>\n",
       "      <th>Player Id</th>\n",
       "      <th>Position</th>\n",
       "      <th>Weight (lbs)</th>\n",
       "      <th>Years Played</th>\n",
       "    </tr>\n",
       "  </thead>\n",
       "  <tbody>\n",
       "    <tr>\n",
       "      <th>35</th>\n",
       "      <td>29.0</td>\n",
       "      <td>Dayton , OH</td>\n",
       "      <td>4/1/1988</td>\n",
       "      <td>Ohio State</td>\n",
       "      <td>Active</td>\n",
       "      <td>Carolina Panthers</td>\n",
       "      <td>8th season</td>\n",
       "      <td>71.0</td>\n",
       "      <td>Northmont HS</td>\n",
       "      <td>Clayton, OH</td>\n",
       "      <td>Coleman, Kurt</td>\n",
       "      <td>20.0</td>\n",
       "      <td>kurtcoleman/494261</td>\n",
       "      <td>SS</td>\n",
       "      <td>200.0</td>\n",
       "      <td>NaN</td>\n",
       "    </tr>\n",
       "    <tr>\n",
       "      <th>37</th>\n",
       "      <td>26.0</td>\n",
       "      <td>Rodeo , CA</td>\n",
       "      <td>7/28/1990</td>\n",
       "      <td>Ohio U.</td>\n",
       "      <td>Active</td>\n",
       "      <td>Oakland Raiders</td>\n",
       "      <td>4th season</td>\n",
       "      <td>72.0</td>\n",
       "      <td>De La Salle HS</td>\n",
       "      <td>Concord, CA</td>\n",
       "      <td>Carrie, T.J.</td>\n",
       "      <td>38.0</td>\n",
       "      <td>t.j.carrie/2550164</td>\n",
       "      <td>SS</td>\n",
       "      <td>205.0</td>\n",
       "      <td>NaN</td>\n",
       "    </tr>\n",
       "    <tr>\n",
       "      <th>39</th>\n",
       "      <td>29.0</td>\n",
       "      <td>Fort Myers , FL</td>\n",
       "      <td>11/30/1987</td>\n",
       "      <td>South Florida</td>\n",
       "      <td>Active</td>\n",
       "      <td>Miami Dolphins</td>\n",
       "      <td>8th season</td>\n",
       "      <td>72.0</td>\n",
       "      <td>Cape Coral HS</td>\n",
       "      <td>FL</td>\n",
       "      <td>Allen, Nate</td>\n",
       "      <td>NaN</td>\n",
       "      <td>nateallen/2508043</td>\n",
       "      <td>DB</td>\n",
       "      <td>210.0</td>\n",
       "      <td>NaN</td>\n",
       "    </tr>\n",
       "    <tr>\n",
       "      <th>63</th>\n",
       "      <td>27.0</td>\n",
       "      <td>Stockton , CA</td>\n",
       "      <td>1/1/1990</td>\n",
       "      <td>Montana</td>\n",
       "      <td>Active</td>\n",
       "      <td>Los Angeles Rams</td>\n",
       "      <td>6th season</td>\n",
       "      <td>74.0</td>\n",
       "      <td>Edison HS</td>\n",
       "      <td>Stockton, CA</td>\n",
       "      <td>Johnson, Trumaine</td>\n",
       "      <td>22.0</td>\n",
       "      <td>trumainejohnson/2532877</td>\n",
       "      <td>CB</td>\n",
       "      <td>208.0</td>\n",
       "      <td>NaN</td>\n",
       "    </tr>\n",
       "    <tr>\n",
       "      <th>64</th>\n",
       "      <td>30.0</td>\n",
       "      <td>Casper , WY</td>\n",
       "      <td>11/19/1986</td>\n",
       "      <td>Utah</td>\n",
       "      <td>Active</td>\n",
       "      <td>San Francisco 49ers</td>\n",
       "      <td>8th season</td>\n",
       "      <td>76.0</td>\n",
       "      <td>Hillcrest HS</td>\n",
       "      <td>Midvale, UT</td>\n",
       "      <td>Beadles, Zane</td>\n",
       "      <td>68.0</td>\n",
       "      <td>zanebeadles/496980</td>\n",
       "      <td>G</td>\n",
       "      <td>305.0</td>\n",
       "      <td>NaN</td>\n",
       "    </tr>\n",
       "  </tbody>\n",
       "</table>\n",
       "</div>"
      ],
      "text/plain": [
       "     Age      Birth Place    Birthday        College Current Status  \\\n",
       "35  29.0      Dayton , OH    4/1/1988     Ohio State         Active   \n",
       "37  26.0       Rodeo , CA   7/28/1990        Ohio U.         Active   \n",
       "39  29.0  Fort Myers , FL  11/30/1987  South Florida         Active   \n",
       "63  27.0    Stockton , CA    1/1/1990        Montana         Active   \n",
       "64  30.0      Casper , WY  11/19/1986           Utah         Active   \n",
       "\n",
       "           Current Team  Experience  Height (inches)     High School  \\\n",
       "35    Carolina Panthers  8th season             71.0    Northmont HS   \n",
       "37      Oakland Raiders  4th season             72.0  De La Salle HS   \n",
       "39       Miami Dolphins  8th season             72.0   Cape Coral HS   \n",
       "63     Los Angeles Rams  6th season             74.0       Edison HS   \n",
       "64  San Francisco 49ers  8th season             76.0    Hillcrest HS   \n",
       "\n",
       "   High School Location               Name  Number                Player Id  \\\n",
       "35          Clayton, OH      Coleman, Kurt    20.0       kurtcoleman/494261   \n",
       "37          Concord, CA       Carrie, T.J.    38.0       t.j.carrie/2550164   \n",
       "39                   FL        Allen, Nate     NaN        nateallen/2508043   \n",
       "63         Stockton, CA  Johnson, Trumaine    22.0  trumainejohnson/2532877   \n",
       "64          Midvale, UT      Beadles, Zane    68.0       zanebeadles/496980   \n",
       "\n",
       "   Position  Weight (lbs) Years Played  \n",
       "35       SS         200.0          NaN  \n",
       "37       SS         205.0          NaN  \n",
       "39       DB         210.0          NaN  \n",
       "63       CB         208.0          NaN  \n",
       "64        G         305.0          NaN  "
      ]
     },
     "execution_count": 18,
     "metadata": {},
     "output_type": "execute_result"
    }
   ],
   "source": [
    "activeFilter = data[\"Current Status\"] == \"Active\"\n",
    "\n",
    "aboveAndActive = data[ageFilter & activeFilter]\n",
    "len(aboveAndActive)\n",
    "aboveAndActive.head()"
   ]
  },
  {
   "cell_type": "code",
   "execution_count": 19,
   "metadata": {},
   "outputs": [
    {
     "data": {
      "text/plain": [
       "<matplotlib.axes._subplots.AxesSubplot at 0x1a2689c518>"
      ]
     },
     "execution_count": 19,
     "metadata": {},
     "output_type": "execute_result"
    },
    {
     "data": {
      "image/png": "[encoded data removed]",
      "text/plain": [
       "<Figure size 432x288 with 1 Axes>"
      ]
     },
     "metadata": {
      "needs_background": "light"
     },
     "output_type": "display_data"
    }
   ],
   "source": [
    "# Plotting\n",
    "frequencies = aboveAndActive[\"Position\"].value_counts()\n",
    "frequencies.plot.bar(\n",
    "    title=(\n",
    "        \"Active players above  \" +\n",
    "        str(ageFilterValue) +\n",
    "        \"grouped by position\"\n",
    "    )\n",
    ")"
   ]
  },
  {
   "cell_type": "code",
   "execution_count": 20,
   "metadata": {},
   "outputs": [
    {
     "data": {
      "image/png": "[encoded data removed]",
      "text/plain": [
       "<Figure size 432x288 with 1 Axes>"
      ]
     },
     "metadata": {
      "needs_background": "light"
     },
     "output_type": "display_data"
    }
   ],
   "source": [
    "# Plotting with style\n",
    "color = cm.inferno_r(np.linspace(.4, .8, 30))\n",
    "frequencies.plot(\n",
    "    kind=\"bar\",\n",
    "    title=(\n",
    "        \"Active NFL players above \" +\n",
    "        str(ageFilterValue) +\n",
    "        \"y grouped by position\"\n",
    "    ),\n",
    "    color=color\n",
    ")\n",
    "plt.savefig('./images/nflBar.png', dpi=500)"
   ]
  },
  {
   "cell_type": "code",
   "execution_count": 21,
   "metadata": {},
   "outputs": [
    {
     "data": {
      "image/png": "[encoded data removed]",
      "text/plain": [
       "<Figure size 597x360 with 1 Axes>"
      ]
     },
     "metadata": {
      "needs_background": "light"
     },
     "output_type": "display_data"
    }
   ],
   "source": [
    "# Scatter plot\n",
    "sns.lmplot(\n",
    "    x=\"Height (inches)\", y=\"Weight (lbs)\", data=aboveAndActive,\n",
    "    aspect=1.5, fit_reg=False, hue='Position', legend=True,\n",
    "    palette=sns.color_palette(\"hls\", len(aboveAndActive[\"Position\"].unique()))\n",
    ")\n",
    "plt.savefig('./images/nflScatter.png', dpi=500)"
   ]
  },
  {
   "cell_type": "code",
   "execution_count": null,
   "metadata": {},
   "outputs": [],
   "source": []
  }
 ],
 "metadata": {
  "kernelspec": {
   "display_name": "Python 3",
   "language": "python",
   "name": "python3"
  },
  "language_info": {
   "codemirror_mode": {
    "name": "ipython",
    "version": 3
   },
   "file_extension": ".py",
   "mimetype": "text/x-python",
   "name": "python",
   "nbconvert_exporter": "python",
   "pygments_lexer": "ipython3",
   "version": "3.7.3"
  }
 },
 "nbformat": 4,
 "nbformat_minor": 2
}
